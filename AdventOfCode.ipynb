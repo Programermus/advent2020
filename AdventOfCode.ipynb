{
 "cells": [
  {
   "cell_type": "markdown",
   "metadata": {},
   "source": [
    "#1"
   ]
  },
  {
   "cell_type": "code",
   "execution_count": 95,
   "metadata": {},
   "outputs": [
    {
     "name": "stdout",
     "output_type": "stream",
     "text": [
      "786811\n",
      "199068980\n"
     ]
    }
   ],
   "source": [
    "with open('inputs/numbers.txt') as f:\n",
    "    numbers = list(map(int, f.read().splitlines()))  \n",
    "\n",
    "#part1\n",
    "l = [x for x in numbers if 2020-x in numbers]\n",
    "print(l[0]*l[1])\n",
    "\n",
    "#part2\n",
    "ans = 1\n",
    "for num in set([x for x in numbers for y in numbers if 2020-x-y in numbers]):\n",
    "    ans *= num\n",
    "print(ans)"
   ]
  },
  {
   "cell_type": "markdown",
   "metadata": {},
   "source": [
    "#2"
   ]
  },
  {
   "cell_type": "code",
   "execution_count": 62,
   "metadata": {},
   "outputs": [
    {
     "name": "stdout",
     "output_type": "stream",
     "text": [
      "686\n",
      "477\n"
     ]
    }
   ],
   "source": [
    "with open('inputs/password_pols.txt') as f:\n",
    "    lines = f.read().splitlines()\n",
    "\n",
    "#part1\n",
    "counter = 0\n",
    "for line in lines:\n",
    "    format_line = line.replace(\"-\", \" \").replace(\":\", \"\").split(\" \")\n",
    "    condition1 = format_line[3][int(format_line[0])-1] == format_line[2]\n",
    "    condition2 = format_line[3][int(format_line[1])-1] == format_line[2]\n",
    "    if (condition1 or condition2) and not (condition1 and condition2):\n",
    "        counter += 1\n",
    "print(counter)\n",
    "\n",
    "#part2\n",
    "counter = 0\n",
    "for line in lines:\n",
    "    format_line = line.replace(\"-\", \" \").replace(\":\", \"\").split(\" \")\n",
    "    shouldCount = format_line[3].count(format_line[2]) in range(int(format_line[0]), int(format_line[1])+1)\n",
    "    if shouldCount:\n",
    "        counter += 1\n",
    "print(counter)"
   ]
  },
  {
   "cell_type": "markdown",
   "metadata": {},
   "source": [
    "#3"
   ]
  },
  {
   "cell_type": "code",
   "execution_count": 91,
   "metadata": {},
   "outputs": [
    {
     "name": "stdout",
     "output_type": "stream",
     "text": [
      "292\n",
      "9354744432\n"
     ]
    }
   ],
   "source": [
    "with open(\"inputs/slopes.txt\") as f:\n",
    "    lines = f.read().splitlines()\n",
    "\n",
    "#down first index of tuple, right is right index\n",
    "instructions = [(1,1), (1,3), (1,5), (1,7), (2,1)]\n",
    "\n",
    "#part1\n",
    "print(len([index for index in range(0,len(lines), 1) if lines[index][(index*3)%31] == '#']))\n",
    "\n",
    "#part 2\n",
    "ans=1\n",
    "for instruction in instructions:\n",
    "    down = instruction[0]\n",
    "    right = instruction[1]\n",
    "    slopes = len([index for index in range(0, len(lines), down) if lines[index][(int(index/down)*right)%31] == '#'])\n",
    "    ans *= slopes\n",
    "print(ans)"
   ]
  },
  {
   "cell_type": "code",
   "execution_count": null,
   "metadata": {},
   "outputs": [],
   "source": []
  },
  {
   "cell_type": "code",
   "execution_count": null,
   "metadata": {},
   "outputs": [],
   "source": []
  }
 ],
 "metadata": {
  "kernelspec": {
   "display_name": "Python 3",
   "language": "python",
   "name": "python3"
  },
  "language_info": {
   "codemirror_mode": {
    "name": "ipython",
    "version": 3
   },
   "file_extension": ".py",
   "mimetype": "text/x-python",
   "name": "python",
   "nbconvert_exporter": "python",
   "pygments_lexer": "ipython3",
   "version": "3.6.9"
  }
 },
 "nbformat": 4,
 "nbformat_minor": 4
}
