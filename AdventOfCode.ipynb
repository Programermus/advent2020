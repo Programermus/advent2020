{
 "cells": [
  {
   "cell_type": "markdown",
   "metadata": {},
   "source": [
    "#1"
   ]
  },
  {
   "cell_type": "code",
   "execution_count": 1,
   "metadata": {},
   "outputs": [
    {
     "name": "stdout",
     "output_type": "stream",
     "text": [
      "786811\n",
      "199068980\n"
     ]
    }
   ],
   "source": [
    "with open('inputs/numbers.txt') as f:\n",
    "    numbers = list(map(int, f.read().splitlines()))  \n",
    "\n",
    "#part1\n",
    "l = [x for x in numbers if 2020-x in numbers]\n",
    "print(l[0]*l[1])\n",
    "\n",
    "#part2\n",
    "ans = 1\n",
    "for num in set([x for x in numbers for y in numbers if 2020-x-y in numbers]):\n",
    "    ans *= num\n",
    "print(ans)"
   ]
  },
  {
   "cell_type": "markdown",
   "metadata": {},
   "source": [
    "#2"
   ]
  },
  {
   "cell_type": "code",
   "execution_count": 62,
   "metadata": {},
   "outputs": [
    {
     "name": "stdout",
     "output_type": "stream",
     "text": [
      "686\n",
      "477\n"
     ]
    }
   ],
   "source": [
    "with open('inputs/password_pols.txt') as f:\n",
    "    lines = f.read().splitlines()\n",
    "\n",
    "#part1\n",
    "counter = 0\n",
    "for line in lines:\n",
    "    format_line = line.replace(\"-\", \" \").replace(\":\", \"\").split(\" \")\n",
    "    condition1 = format_line[3][int(format_line[0])-1] == format_line[2]\n",
    "    condition2 = format_line[3][int(format_line[1])-1] == format_line[2]\n",
    "    if (condition1 or condition2) and not (condition1 and condition2):\n",
    "        counter += 1\n",
    "print(counter)\n",
    "\n",
    "#part2\n",
    "counter = 0\n",
    "for line in lines:\n",
    "    format_line = line.replace(\"-\", \" \").replace(\":\", \"\").split(\" \")\n",
    "    shouldCount = format_line[3].count(format_line[2]) in range(int(format_line[0]), int(format_line[1])+1)\n",
    "    if shouldCount:\n",
    "        counter += 1\n",
    "print(counter)"
   ]
  },
  {
   "cell_type": "markdown",
   "metadata": {},
   "source": [
    "#3"
   ]
  },
  {
   "cell_type": "code",
   "execution_count": 91,
   "metadata": {},
   "outputs": [
    {
     "name": "stdout",
     "output_type": "stream",
     "text": [
      "292\n",
      "9354744432\n"
     ]
    }
   ],
   "source": [
    "with open(\"inputs/slopes.txt\") as f:\n",
    "    lines = f.read().splitlines()\n",
    "\n",
    "#down first index of tuple, right is right index\n",
    "instructions = [(1,1), (1,3), (1,5), (1,7), (2,1)]\n",
    "\n",
    "#part1\n",
    "print(len([index for index in range(0,len(lines), 1) if lines[index][(index*3)%31] == '#']))\n",
    "\n",
    "#part 2\n",
    "ans=1\n",
    "for instruction in instructions:\n",
    "    down = instruction[0]\n",
    "    right = instruction[1]\n",
    "    slopes = len([index for index in range(0, len(lines), down) if lines[index][(int(index/down)*right)%31] == '#'])\n",
    "    ans *= slopes\n",
    "print(ans)"
   ]
  },
  {
   "cell_type": "markdown",
   "metadata": {},
   "source": [
    "#4"
   ]
  },
  {
   "cell_type": "code",
   "execution_count": 294,
   "metadata": {
    "scrolled": true
   },
   "outputs": [
    {
     "name": "stdout",
     "output_type": "stream",
     "text": [
      "103\n"
     ]
    }
   ],
   "source": [
    "#part 1-ish and 2\n",
    "import re\n",
    "\n",
    "patterns = {'byr': '^.*(byr:(19[2-9][0-9]|200[0-2])(\\s|\\n))',\n",
    "            'iyr': '^.*(iyr:(201[0-9]|2020)(\\s|\\n))', \n",
    "            'eyr': '^.*(eyr:(202[0-9]|2030)(\\s|\\n))', \n",
    "            'hgt': '^.*(hgt:(1[5-8][0-9]cm|19[0-3]cm|59in|6[0-9]in|7[0-6]in)(\\s|\\n))', \n",
    "            'hcl': '^.*(hcl:(#[0-9a-f]{6})(\\s|\\n))', \n",
    "            'ecl': '^.*(ecl:(amb|blu|brn|gry|grn|hzl|oth)(\\s|\\n))', \n",
    "            'pid': '^.*(pid:\\d{9}(\\s|\\n))'}\n",
    "\n",
    "def get_tags(string):\n",
    "    return [x for x in re.findall(r'([a-z]{3}):', string) if x != 'cid']\n",
    "\n",
    "with open('inputs/passports.txt', 'r') as f:    \n",
    "    count, my_matches = 0, {}\n",
    "    for line in f.readlines():\n",
    "        for tag in get_tags(line):            \n",
    "            match = re.search(patterns[tag], line)        \n",
    "            if match:\n",
    "                my_matches[tag] = 1\n",
    "        if sum(my_matches.values()) == len(patterns):\n",
    "                count += 1\n",
    "                my_matches = {}\n",
    "                continue\n",
    "        if line == '\\n':   \n",
    "                my_matches = {}\n",
    "        \n",
    "print(count)"
   ]
  },
  {
   "cell_type": "markdown",
   "metadata": {},
   "source": [
    "#5"
   ]
  },
  {
   "cell_type": "code",
   "execution_count": 53,
   "metadata": {},
   "outputs": [
    {
     "name": "stdout",
     "output_type": "stream",
     "text": [
      "938\n",
      "696\n"
     ]
    }
   ],
   "source": [
    "#part 1 and 2\n",
    "import math\n",
    "\n",
    "ids = []\n",
    "\n",
    "with open('inputs/tickets.txt', 'r') as f:\n",
    "    tickets = f.read().splitlines()\n",
    "    \n",
    "for ticket in tickets:\n",
    "    rows = [0, 127]\n",
    "    cols = [0, 7]\n",
    "    for i, letter in enumerate(ticket):\n",
    "        if letter == 'F':\n",
    "            rows[1] = math.floor((rows[1]-rows[0])/2) + rows[0]\n",
    "        if letter == 'B':\n",
    "            rows[0] = math.ceil((rows[1]-rows[0])/2) + rows[0]\n",
    "        if letter == 'L':\n",
    "            cols[1] = math.floor((cols[1]-cols[0])/2) + cols[0]\n",
    "        if letter == 'R':\n",
    "            cols[0] = math.ceil((cols[1]-cols[0])/2) + cols[0]\n",
    "    ids.append((rows[0])*8+(cols[0]))\n",
    "print(max(ids))\n",
    "\n",
    "print([id for id in range(min(ids), max(ids)+1) if id not in ids][0])\n"
   ]
  },
  {
   "cell_type": "markdown",
   "metadata": {},
   "source": [
    "#6"
   ]
  },
  {
   "cell_type": "code",
   "execution_count": 79,
   "metadata": {
    "scrolled": true
   },
   "outputs": [
    {
     "name": "stdout",
     "output_type": "stream",
     "text": [
      "6596\n",
      "3219\n"
     ]
    }
   ],
   "source": [
    "#part 1\n",
    "question_groups = []\n",
    "group = []\n",
    "with open('inputs/questions.txt', 'r') as f:\n",
    "    questions = f.read().splitlines()\n",
    "    for line_index, question in enumerate(questions):\n",
    "        if question == '' or line_index + 1 == len(questions):\n",
    "            question_groups.append(group)\n",
    "            group = []\n",
    "            continue\n",
    "        else:\n",
    "            group.append(question)\n",
    "\n",
    "count = 0\n",
    "for group in question_groups:\n",
    "    count += len(set(\"\".join(group)))    \n",
    "print(count)\n",
    "\n",
    "#part 2\n",
    "count = 0\n",
    "for group in question_groups:\n",
    "    list_of_groups = []\n",
    "    for elem in group:\n",
    "        list_of_groups.append(set(elem))\n",
    "    intersection = set.intersection(*list_of_groups)\n",
    "    count += len(intersection)\n",
    "print(count)"
   ]
  },
  {
   "cell_type": "markdown",
   "metadata": {},
   "source": [
    "#7"
   ]
  },
  {
   "cell_type": "code",
   "execution_count": 1,
   "metadata": {},
   "outputs": [
    {
     "data": {
      "text/plain": [
       "268"
      ]
     },
     "execution_count": 1,
     "metadata": {},
     "output_type": "execute_result"
    }
   ],
   "source": [
    "#part1\n",
    "bag_mapper = {}\n",
    "gold_bags = []\n",
    "with open('inputs/bags.txt', 'r') as f:\n",
    "    bags = []\n",
    "    lines = f.read().splitlines()\n",
    "    for line in lines:\n",
    "        formated = line.replace('.', '').replace('bags', 'bag').strip()\n",
    "        bags.append(formated)\n",
    "        \n",
    "    for bag in bags:\n",
    "        bag_line = bag.split('contain')\n",
    "        if 'shiny gold' in bag_line[1]:\n",
    "            gold_bags.append(bag_line[0].strip())\n",
    "\n",
    "def find_parent(gold_bags, new_found = [], last_found=gold_bags):\n",
    "    new_found = []\n",
    "\n",
    "    for bag in last_found:\n",
    "        for line in lines:\n",
    "            line = line.replace('.', '').replace('bags', 'bag').strip()\n",
    "            l = line.split('contain')\n",
    "            if bag in l[1].strip() and bag not in new_found:\n",
    "                new_found.append(l[0].strip())\n",
    "    \n",
    "    last_found = new_found\n",
    "    if len(last_found) > 0:\n",
    "        gold_bags += last_found\n",
    "    if len(new_found) == 0:\n",
    "        return gold_bags\n",
    "    \n",
    "    return find_parent(gold_bags, new_found, last_found)\n",
    "\n",
    "a = find_parent(gold_bags)\n",
    "len(set(a))\n",
    "\n"
   ]
  },
  {
   "cell_type": "code",
   "execution_count": 574,
   "metadata": {},
   "outputs": [
    {
     "name": "stdout",
     "output_type": "stream",
     "text": [
      "7867\n"
     ]
    }
   ],
   "source": [
    "#part2\n",
    "import numpy as np\n",
    "bag_map = {}\n",
    "with open('inputs/bags.txt', 'r') as f:\n",
    "    lines = f.read().splitlines()\n",
    "    for line in lines:\n",
    "        formated = line.replace('.', '').replace('bags', 'bag').split(' contain ')\n",
    "        bag_map[formated[0]] = formated[1].split(', ')\n",
    "\n",
    "map_matrix = []\n",
    "def bag_mapper(bag_list=['1 shiny gold bag']):    \n",
    "    new_bags = []\n",
    "    map_matrix.append(bag_list)\n",
    "    for bag in bag_list:\n",
    "        if 'other bag' not in bag:\n",
    "            new_bags += int(bag[0])*bag_map[bag[2:]]\n",
    "    if len(new_bags) == 0:\n",
    "        return map_matrix\n",
    "    return bag_mapper(new_bags)\n",
    "\n",
    "my_bags = bag_mapper()\n",
    "count = 0\n",
    "for bags in my_bags:\n",
    "    count += sum(list(map(lambda elem: int(elem[0]) if 'other bag' not in elem else 0, bags)))\n",
    "print(count-1)"
   ]
  },
  {
   "cell_type": "markdown",
   "metadata": {},
   "source": [
    "#8"
   ]
  },
  {
   "cell_type": "code",
   "execution_count": 583,
   "metadata": {},
   "outputs": [
    {
     "name": "stdout",
     "output_type": "stream",
     "text": [
      "1000\n"
     ]
    }
   ],
   "source": [
    "instructions = open('inputs/instructions.txt', 'r').read().splitlines()\n",
    "instructions = [x.split(\" \") for x in instructions]\n",
    "mapper = {}\n",
    "i = 0\n",
    "for ins in instructions:\n",
    "    mapper[i] = ins\n",
    "    i += 1\n",
    "\n",
    "def test_path(mapper):\n",
    "    passed = []\n",
    "    index = 0\n",
    "    acc = 0\n",
    "    while index not in passed:\n",
    "        if index not in mapper.keys():\n",
    "            return acc\n",
    "        ins = mapper[index]\n",
    "        passed.append(index)\n",
    "        if mapper[index][0] == 'acc':\n",
    "            acc += int(mapper[index][1])\n",
    "        if mapper[index][0] == 'jmp':\n",
    "            index += int(mapper[index][1])-1\n",
    "        if mapper[index][0] == 'nop':\n",
    "            if index + int(mapper[index][1])-1 in passed:\n",
    "                break\n",
    "        index += 1\n",
    "    return\n",
    "\n",
    "for key in mapper.keys():\n",
    "    if mapper[key][0] == 'nop':\n",
    "        mapper[key][0] = 'jmp'\n",
    "        end_acc_valid = test_path(mapper)\n",
    "        if end_acc_valid:\n",
    "            print(end_acc_valid)\n",
    "        mapper[key][0] = 'nop'\n",
    "    if mapper[key][0] == 'jmp':\n",
    "        mapper[key][0] = 'nop'\n",
    "        end_acc_valid = test_path(mapper)\n",
    "        if end_acc_valid:\n",
    "            print(end_acc_valid)\n",
    "        mapper[key][0] = 'jmp'"
   ]
  },
  {
   "cell_type": "markdown",
   "metadata": {},
   "source": [
    "#9"
   ]
  },
  {
   "cell_type": "code",
   "execution_count": 584,
   "metadata": {},
   "outputs": [
    {
     "name": "stdout",
     "output_type": "stream",
     "text": [
      "530627549\n",
      "77730285\n"
     ]
    }
   ],
   "source": [
    "from itertools import permutations\n",
    "numbers = list(map(int, open('inputs/xmas.txt', 'r').read().splitlines()))\n",
    "#part1\n",
    "for i in range(0, len(numbers)):\n",
    "    nums = list(map(sum,permutations(numbers[i:i+25],2)))\n",
    "    if numbers[i+25] not in nums:\n",
    "        my_number = numbers[i+25]\n",
    "        max_range = numbers.index(my_number)        \n",
    "        break\n",
    "print(my_number)\n",
    "\n",
    "#part2\n",
    "for i in range(0, max_range):\n",
    "    for j in range(0, i):\n",
    "        if sum(numbers[j:i]) == my_number:\n",
    "            print(max(numbers[j:i])+min(numbers[j:i]))\n",
    "            break"
   ]
  },
  {
   "cell_type": "markdown",
   "metadata": {
    "scrolled": true
   },
   "source": [
    "#10"
   ]
  },
  {
   "cell_type": "code",
   "execution_count": 585,
   "metadata": {},
   "outputs": [
    {
     "name": "stdout",
     "output_type": "stream",
     "text": [
      "28346956187648\n"
     ]
    }
   ],
   "source": [
    "#part2 (1 easy)\n",
    "import numpy as np\n",
    "\n",
    "jolts = []\n",
    "with open('inputs/volts.txt', 'r') as f:\n",
    "    lines = f.read().splitlines()\n",
    "    for line in lines:\n",
    "        jolts.append(int(line))\n",
    "        \n",
    "sorted_jolts = [0] + sorted(jolts)\n",
    "soretd_jolts = sorted_jolts.append(158)\n",
    "fixed_elements=[]\n",
    "removable_elements=[]\n",
    "for x in sorted_jolts:\n",
    "    if x+1 in sorted_jolts and x-1 in sorted_jolts:\n",
    "        removable_elements.append(x)\n",
    "    else:\n",
    "        fixed_elements.append(x)\n",
    "        \n",
    "arr1 = []\n",
    "arr2 = []\n",
    "arr3 = []\n",
    "tmp = removable_elements\n",
    "for ele in tmp:\n",
    "    if ele-1 in tmp and ele+1 in tmp:\n",
    "        #7 different combinations\n",
    "        arr1.append(7)\n",
    "    elif ele+1 in tmp and ele+2 not in tmp:\n",
    "        #4 different\n",
    "        arr2.append(4)\n",
    "    elif ele-1 not in tmp and ele+1 not in tmp:\n",
    "        #2 different\n",
    "        arr3.append(2)\n",
    "\n",
    "print(np.prod(arr1)*np.prod(arr2)*np.prod(arr3))"
   ]
  },
  {
   "cell_type": "markdown",
   "metadata": {},
   "source": [
    "#11"
   ]
  },
  {
   "cell_type": "code",
   "execution_count": 502,
   "metadata": {},
   "outputs": [
    {
     "name": "stdout",
     "output_type": "stream",
     "text": [
      "2299\n"
     ]
    }
   ],
   "source": [
    "#part 1\n",
    "import numpy as np\n",
    "arr = []\n",
    "with open('inputs/seats.txt', 'r') as f:\n",
    "    lines = f.read().splitlines()\n",
    "    for line in lines:\n",
    "        line = line.replace('.', '0').replace('L', '1')\n",
    "        arr.append(list(map(int, line)))\n",
    "start_state = np.pad(np.array(arr), 1)\n",
    "\n",
    "def state_switch(arr):\n",
    "    state = np.zeros(arr.shape)\n",
    "    for row in range(1, arr.shape[0]-1):\n",
    "        for col in range(1, arr.shape[1]-1):\n",
    "\n",
    "            filt = arr[row-1:row+2, col-1:col+2]\n",
    "            edge = np.delete(filt, 4)\n",
    "\n",
    "            #switch availble to occupied\n",
    "            if sum(edge) == np.count_nonzero(edge == 1) and arr[row, col] == 1:\n",
    "                state[row, col] = -1\n",
    "            \n",
    "            #switch occupied to availble\n",
    "            elif np.count_nonzero(edge == -1) >= 4 and arr[row, col] == -1:\n",
    "                state[row, col] = 1\n",
    "            \n",
    "            else:\n",
    "                state[row, col] = arr[row, col]\n",
    "            \n",
    "    if (state == arr).all():\n",
    "        return state\n",
    "    return state_switch(state)\n",
    "\n",
    "end_state = state_switch(start_state)\n",
    "print(np.count_nonzero(end_state == -1))"
   ]
  },
  {
   "cell_type": "code",
   "execution_count": 572,
   "metadata": {},
   "outputs": [
    {
     "name": "stdout",
     "output_type": "stream",
     "text": [
      "2047\n"
     ]
    }
   ],
   "source": [
    "#part 2\n",
    "import numpy as np\n",
    "arr = []\n",
    "with open('inputs/seats.txt', 'r') as f:\n",
    "    lines = f.read().splitlines()\n",
    "    for line in lines:\n",
    "        line = line.replace('.', '0').replace('L', '1')\n",
    "        arr.append(list(map(int, line)))\n",
    "start_state = np.pad(np.array(arr), 1)\n",
    "states = [start_state]\n",
    "\n",
    "\n",
    "def get_filter(i, j, arr):\n",
    "    \n",
    "    new_filter = []\n",
    "    length, width = arr.shape\n",
    "    col = arr[:,j]\n",
    "    row = arr[i,:]\n",
    "    \n",
    "    \n",
    "    for k in range(j+1, len(row)):\n",
    "        if row[k] != 0:            \n",
    "            new_filter.append(row[k])\n",
    "            break\n",
    "            \n",
    "    for k in range(j-1, 0, -1):\n",
    "        if row[k] != 0:\n",
    "            new_filter.append(row[k])\n",
    "            break\n",
    "            \n",
    "    for k in range(i+1, len(col)):\n",
    "        if col[k] != 0:\n",
    "            new_filter.append(col[k])\n",
    "            break\n",
    "            \n",
    "    for k in range(i-1, 0, -1):\n",
    "        if col[k] != 0:\n",
    "            new_filter.append(col[k])\n",
    "            break\n",
    "            \n",
    "    #print(\"Right diagonal down:\")\n",
    "    for k in range(i, length):                \n",
    "        if k+1 > length-1 or j+(k-i)+1 > width-1:\n",
    "            break\n",
    "        #print(str(k+1) + \", \" + str(j+(k-i)+1))\n",
    "        if arr[k+1, j+(k-i)+1] != 0:\n",
    "            new_filter.append(arr[k+1,j+(k-i)+1])\n",
    "            break\n",
    "            \n",
    "    #print(\"Left diagonal up:\")        \n",
    "    for k in range(j, 0, -1):\n",
    "        if k+1 >= width or i-j+k-1 < 0:\n",
    "            break\n",
    "        #print(str(i-j+k-1) + \", \" + str(k-1))\n",
    "        if arr[i-j+k-1, k-1] != 0:\n",
    "            new_filter.append(arr[i-j+k-1, k-1])\n",
    "            break\n",
    "            \n",
    "    #print(\"Right diagonal up:\")      \n",
    "    for k in range(i, length):        \n",
    "        if i-(k-i)-1 <= 0 or j+(k-i)+1>width-1:\n",
    "            break\n",
    "        #print(str(i-(k-i)-1) + \", \" + str(j+(k-i)+1))\n",
    "        if arr[i-(k-i)-1, j+(k-i)+1] != 0:\n",
    "            new_filter.append(arr[i-(k-i)-1, j+(k-i)+1])\n",
    "            break\n",
    "    \n",
    "    #print(\"Left diagonal down:\")\n",
    "    for k in range(j, 0, -1):        \n",
    "        if i+j-k+1 >= length or k-1 <= 0:\n",
    "            break\n",
    "        #print(str(i+j-k+1) + \", \" + str(k-1))\n",
    "        if arr[i+j-k+1, k-1] != 0:\n",
    "            new_filter.append(arr[i+j-k+1, k-1])\n",
    "            break\n",
    "\n",
    "    return new_filter\n",
    "\n",
    "\n",
    "\n",
    "def state_switch(arr):    \n",
    "    state = np.zeros(arr.shape)\n",
    "    for row in range(1, arr.shape[0]-1):\n",
    "        for col in range(1, arr.shape[1]-1):\n",
    "\n",
    "            edge = get_filter(row,col,arr)\n",
    "\n",
    "            #switch availble to occupied\n",
    "            if sum(edge) == np.count_nonzero(np.asarray(edge) == 1) and arr[row, col] == 1:\n",
    "                state[row, col] = -1\n",
    "  \n",
    "            #switch occupied to availble\n",
    "            elif np.count_nonzero(np.asarray(edge) == -1) >= 5 and arr[row, col] == -1:\n",
    "                state[row, col] = 1\n",
    "            \n",
    "            else:\n",
    "                state[row, col] = arr[row, col]\n",
    "\n",
    "    if (state == arr).all():\n",
    "        return state\n",
    "    return state_switch(state)\n",
    "\n",
    "end_state = state_switch(start_state)\n",
    "print(np.count_nonzero(end_state == -1))"
   ]
  },
  {
   "cell_type": "markdown",
   "metadata": {},
   "source": [
    "#12"
   ]
  },
  {
   "cell_type": "code",
   "execution_count": 587,
   "metadata": {},
   "outputs": [
    {
     "name": "stdout",
     "output_type": "stream",
     "text": [
      "2297\n"
     ]
    }
   ],
   "source": [
    "#part 1\n",
    "\n",
    "navs = {\n",
    "    'E': 0,\n",
    "    'W': 0,\n",
    "    'N': 0,\n",
    "    'S': 0,\n",
    "    'L': 0,\n",
    "    'R': 0,\n",
    "    'dir': 'E'\n",
    "}\n",
    "\n",
    "def get_dir(instructions, current_dir):\n",
    "    a = int(instructions[1:])/90\n",
    "    if instructions[0] == 'L':\n",
    "        a = -a\n",
    "    dirs = 'ESWN'.index(current_dir)\n",
    "    new_dir = 'ESWN'[int(dirs+a)%4]\n",
    "    return new_dir\n",
    "\n",
    "with open('inputs/navs.txt') as f:\n",
    "    arr = f.read().splitlines()\n",
    "    \n",
    "for x in arr:\n",
    "    if x[0] == 'F':\n",
    "        navs[navs['dir']] += int(x[1:])\n",
    "    elif x[0] == 'R' or x[0] == 'L':\n",
    "        navs['dir'] = get_dir(x, navs['dir'])\n",
    "    else:\n",
    "        navs[x[0]] += int(x[1:])\n",
    "        \n",
    "print(abs(navs['E'] - navs['W']) + abs(navs['N']-navs['S']))"
   ]
  },
  {
   "cell_type": "code",
   "execution_count": 588,
   "metadata": {},
   "outputs": [
    {
     "name": "stdout",
     "output_type": "stream",
     "text": [
      "89984\n"
     ]
    }
   ],
   "source": [
    "#part 2\n",
    "ship = {\n",
    "    'E': 0,\n",
    "    'W': 0,\n",
    "    'N': 0,\n",
    "    'S': 0        \n",
    "}\n",
    "\n",
    "waypoint = {\n",
    "    'E': 10,\n",
    "    'N': 1,\n",
    "    'S': 0,\n",
    "    'W': 0\n",
    "}\n",
    "\n",
    "def waypoint_rot(waypoint, instructions):\n",
    "    dirs = 'ESWN'\n",
    "    updated_waypoint = {}\n",
    "    for key in waypoint.keys():\n",
    "        updated_waypoint[get_dir(instructions, key)] = waypoint[key]\n",
    "    return updated_waypoint\n",
    "\n",
    "for x in arr:\n",
    "    if x[0] == 'F':\n",
    "        for key in waypoint.keys():\n",
    "            ship[key] += waypoint[key]*int(x[1:])\n",
    "    elif x[0] == 'R' or x[0] == 'L':\n",
    "        waypoint = waypoint_rot(waypoint, x)\n",
    "    else:\n",
    "        waypoint[x[0]] += int(x[1:])\n",
    "        \n",
    "print(abs(ship['E'] - ship['W']) + abs(ship['N']-ship['S']))"
   ]
  },
  {
   "cell_type": "code",
   "execution_count": null,
   "metadata": {},
   "outputs": [],
   "source": []
  },
  {
   "cell_type": "code",
   "execution_count": null,
   "metadata": {},
   "outputs": [],
   "source": [
    "\n"
   ]
  }
 ],
 "metadata": {
  "kernelspec": {
   "display_name": "Python 3",
   "language": "python",
   "name": "python3"
  },
  "language_info": {
   "codemirror_mode": {
    "name": "ipython",
    "version": 3
   },
   "file_extension": ".py",
   "mimetype": "text/x-python",
   "name": "python",
   "nbconvert_exporter": "python",
   "pygments_lexer": "ipython3",
   "version": "3.6.9"
  }
 },
 "nbformat": 4,
 "nbformat_minor": 4
}
