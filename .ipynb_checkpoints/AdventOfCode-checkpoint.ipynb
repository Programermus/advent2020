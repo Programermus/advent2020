{
 "cells": [
  {
   "cell_type": "markdown",
   "metadata": {},
   "source": [
    "#1"
   ]
  },
  {
   "cell_type": "code",
   "execution_count": 1,
   "metadata": {},
   "outputs": [
    {
     "name": "stdout",
     "output_type": "stream",
     "text": [
      "786811\n",
      "199068980\n"
     ]
    }
   ],
   "source": [
    "with open('inputs/numbers.txt') as f:\n",
    "    numbers = list(map(int, f.read().splitlines()))  \n",
    "\n",
    "#part1\n",
    "l = [x for x in numbers if 2020-x in numbers]\n",
    "print(l[0]*l[1])\n",
    "\n",
    "#part2\n",
    "ans = 1\n",
    "for num in set([x for x in numbers for y in numbers if 2020-x-y in numbers]):\n",
    "    ans *= num\n",
    "print(ans)"
   ]
  },
  {
   "cell_type": "markdown",
   "metadata": {},
   "source": [
    "#2"
   ]
  },
  {
   "cell_type": "code",
   "execution_count": 62,
   "metadata": {},
   "outputs": [
    {
     "name": "stdout",
     "output_type": "stream",
     "text": [
      "686\n",
      "477\n"
     ]
    }
   ],
   "source": [
    "with open('inputs/password_pols.txt') as f:\n",
    "    lines = f.read().splitlines()\n",
    "\n",
    "#part1\n",
    "counter = 0\n",
    "for line in lines:\n",
    "    format_line = line.replace(\"-\", \" \").replace(\":\", \"\").split(\" \")\n",
    "    condition1 = format_line[3][int(format_line[0])-1] == format_line[2]\n",
    "    condition2 = format_line[3][int(format_line[1])-1] == format_line[2]\n",
    "    if (condition1 or condition2) and not (condition1 and condition2):\n",
    "        counter += 1\n",
    "print(counter)\n",
    "\n",
    "#part2\n",
    "counter = 0\n",
    "for line in lines:\n",
    "    format_line = line.replace(\"-\", \" \").replace(\":\", \"\").split(\" \")\n",
    "    shouldCount = format_line[3].count(format_line[2]) in range(int(format_line[0]), int(format_line[1])+1)\n",
    "    if shouldCount:\n",
    "        counter += 1\n",
    "print(counter)"
   ]
  },
  {
   "cell_type": "markdown",
   "metadata": {},
   "source": [
    "#3"
   ]
  },
  {
   "cell_type": "code",
   "execution_count": 91,
   "metadata": {},
   "outputs": [
    {
     "name": "stdout",
     "output_type": "stream",
     "text": [
      "292\n",
      "9354744432\n"
     ]
    }
   ],
   "source": [
    "with open(\"inputs/slopes.txt\") as f:\n",
    "    lines = f.read().splitlines()\n",
    "\n",
    "#down first index of tuple, right is right index\n",
    "instructions = [(1,1), (1,3), (1,5), (1,7), (2,1)]\n",
    "\n",
    "#part1\n",
    "print(len([index for index in range(0,len(lines), 1) if lines[index][(index*3)%31] == '#']))\n",
    "\n",
    "#part 2\n",
    "ans=1\n",
    "for instruction in instructions:\n",
    "    down = instruction[0]\n",
    "    right = instruction[1]\n",
    "    slopes = len([index for index in range(0, len(lines), down) if lines[index][(int(index/down)*right)%31] == '#'])\n",
    "    ans *= slopes\n",
    "print(ans)"
   ]
  },
  {
   "cell_type": "markdown",
   "metadata": {},
   "source": [
    "#4"
   ]
  },
  {
   "cell_type": "code",
   "execution_count": 294,
   "metadata": {
    "scrolled": true
   },
   "outputs": [
    {
     "name": "stdout",
     "output_type": "stream",
     "text": [
      "103\n"
     ]
    }
   ],
   "source": [
    "#part 1-ish and 2\n",
    "import re\n",
    "\n",
    "patterns = {'byr': '^.*(byr:(19[2-9][0-9]|200[0-2])(\\s|\\n))',\n",
    "            'iyr': '^.*(iyr:(201[0-9]|2020)(\\s|\\n))', \n",
    "            'eyr': '^.*(eyr:(202[0-9]|2030)(\\s|\\n))', \n",
    "            'hgt': '^.*(hgt:(1[5-8][0-9]cm|19[0-3]cm|59in|6[0-9]in|7[0-6]in)(\\s|\\n))', \n",
    "            'hcl': '^.*(hcl:(#[0-9a-f]{6})(\\s|\\n))', \n",
    "            'ecl': '^.*(ecl:(amb|blu|brn|gry|grn|hzl|oth)(\\s|\\n))', \n",
    "            'pid': '^.*(pid:\\d{9}(\\s|\\n))'}\n",
    "\n",
    "def get_tags(string):\n",
    "    return [x for x in re.findall(r'([a-z]{3}):', string) if x != 'cid']\n",
    "\n",
    "with open('inputs/passports.txt', 'r') as f:    \n",
    "    count, my_matches = 0, {}\n",
    "    for line in f.readlines():\n",
    "        for tag in get_tags(line):            \n",
    "            match = re.search(patterns[tag], line)        \n",
    "            if match:\n",
    "                my_matches[tag] = 1\n",
    "        if sum(my_matches.values()) == len(patterns):\n",
    "                count += 1\n",
    "                my_matches = {}\n",
    "                continue\n",
    "        if line == '\\n':   \n",
    "                my_matches = {}\n",
    "        \n",
    "print(count)"
   ]
  },
  {
   "cell_type": "markdown",
   "metadata": {},
   "source": [
    "#5"
   ]
  },
  {
   "cell_type": "code",
   "execution_count": 53,
   "metadata": {},
   "outputs": [
    {
     "name": "stdout",
     "output_type": "stream",
     "text": [
      "938\n",
      "696\n"
     ]
    }
   ],
   "source": [
    "#part 1 and 2\n",
    "import math\n",
    "\n",
    "ids = []\n",
    "\n",
    "with open('inputs/tickets.txt', 'r') as f:\n",
    "    tickets = f.read().splitlines()\n",
    "    \n",
    "for ticket in tickets:\n",
    "    rows = [0, 127]\n",
    "    cols = [0, 7]\n",
    "    for i, letter in enumerate(ticket):\n",
    "        if letter == 'F':\n",
    "            rows[1] = math.floor((rows[1]-rows[0])/2) + rows[0]\n",
    "        if letter == 'B':\n",
    "            rows[0] = math.ceil((rows[1]-rows[0])/2) + rows[0]\n",
    "        if letter == 'L':\n",
    "            cols[1] = math.floor((cols[1]-cols[0])/2) + cols[0]\n",
    "        if letter == 'R':\n",
    "            cols[0] = math.ceil((cols[1]-cols[0])/2) + cols[0]\n",
    "    ids.append((rows[0])*8+(cols[0]))\n",
    "print(max(ids))\n",
    "\n",
    "print([id for id in range(min(ids), max(ids)+1) if id not in ids][0])\n"
   ]
  },
  {
   "cell_type": "markdown",
   "metadata": {},
   "source": [
    "#6"
   ]
  },
  {
   "cell_type": "code",
   "execution_count": null,
   "metadata": {},
   "outputs": [],
   "source": []
  },
  {
   "cell_type": "code",
   "execution_count": null,
   "metadata": {},
   "outputs": [],
   "source": []
  },
  {
   "cell_type": "code",
   "execution_count": null,
   "metadata": {},
   "outputs": [],
   "source": []
  },
  {
   "cell_type": "code",
   "execution_count": null,
   "metadata": {},
   "outputs": [],
   "source": []
  },
  {
   "cell_type": "code",
   "execution_count": null,
   "metadata": {},
   "outputs": [],
   "source": []
  },
  {
   "cell_type": "code",
   "execution_count": null,
   "metadata": {},
   "outputs": [],
   "source": []
  },
  {
   "cell_type": "code",
   "execution_count": null,
   "metadata": {},
   "outputs": [],
   "source": []
  }
 ],
 "metadata": {
  "kernelspec": {
   "display_name": "Python 3",
   "language": "python",
   "name": "python3"
  },
  "language_info": {
   "codemirror_mode": {
    "name": "ipython",
    "version": 3
   },
   "file_extension": ".py",
   "mimetype": "text/x-python",
   "name": "python",
   "nbconvert_exporter": "python",
   "pygments_lexer": "ipython3",
   "version": "3.6.9"
  }
 },
 "nbformat": 4,
 "nbformat_minor": 4
}
